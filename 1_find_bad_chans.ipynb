{
 "cells": [
  {
   "cell_type": "markdown",
   "id": "0739274d-8acf-4e4b-9367-95bfaaf7475e",
   "metadata": {},
   "source": [
    "## Find bad MEG channels\n",
    "For each participant session, manually inspect the data and identify bad MEG channels to exclude them before the rest of preprocessing. **Every session should have the same bad channels across all files.** The list of bad channels is saved to the text file `{subject}_bads.txt`.\n",
    "\n",
    "It's recommended to run MNE-Python locally on a Mac/Windows so you don't need to use graphics forwarding from Linux to non-Linux. **If you ignore this advice and run this notebook remotely, you'll need to enable a display environment, since Qt requires a GUI backend**\n",
    "- Option 1: Use X11 Forwarding via SSH -- run [XQuartz](https://www.xquartz.org/) (Mac) or [X11](https://pkgs.org/download/x11-common) (Linux) on your local machine\n",
    "- Option 2: Use a Virtual Display (like [Xvfb](https://pkgs.org/download/Xvfb))"
   ]
  },
  {
   "cell_type": "code",
   "execution_count": 1,
   "id": "ec292805-7b74-4656-a9c2-4e50cc9bcc18",
   "metadata": {},
   "outputs": [],
   "source": [
    "# load packages\n",
    "import os\n",
    "import time\n",
    "import mne\n",
    "from mne.io import read_raw_fif\n",
    "#%matplotlib qt"
   ]
  },
  {
   "cell_type": "code",
   "execution_count": 2,
   "id": "e566ace6-069a-45b2-af9f-0361064c6684",
   "metadata": {},
   "outputs": [],
   "source": [
    "# session info\n",
    "subject = 'nbl_005'\n",
    "session = '01'\n",
    "file = 'bigfrank_1'\n",
    "\n",
    "# filter params\n",
    "filt_l = 1\n",
    "filt_notch = 60\n",
    "filt_h = 200"
   ]
  },
  {
   "cell_type": "code",
   "execution_count": 3,
   "id": "f333168f-e42c-4320-be5a-89584e499a8f",
   "metadata": {},
   "outputs": [],
   "source": [
    "# file paths\n",
    "processed_meg_dir = '/mnt/sphere/nbl/processed_meg/'\n",
    "sub_ses = os.path.join(subject, 'ses-'+session)\n",
    "recording_fname = f\"{subject}_{file}_raw.fif\"\n",
    "raw_fname = os.path.join(processed_meg_dir, sub_ses, recording_fname)\n",
    "bads_list_fname = os.path.join(processed_meg_dir, sub_ses, subject+'_bads.txt')"
   ]
  },
  {
   "cell_type": "code",
   "execution_count": 4,
   "id": "182a46d5-c9c0-41bb-a2ac-4da88f58706f",
   "metadata": {
    "scrolled": true
   },
   "outputs": [
    {
     "name": "stdout",
     "output_type": "stream",
     "text": [
      "Reading raw file for nbl_005...\n",
      "Opening raw data file /mnt/sphere/nbl/processed_meg/nbl_005/ses-01/nbl_005_bigfrank_1_raw.fif...\n",
      "    Read a total of 13 projection items:\n",
      "        generated with dossp-2.1 (1 x 306)  idle\n",
      "        generated with dossp-2.1 (1 x 306)  idle\n",
      "        generated with dossp-2.1 (1 x 306)  idle\n",
      "        generated with dossp-2.1 (1 x 306)  idle\n",
      "        generated with dossp-2.1 (1 x 306)  idle\n",
      "        generated with dossp-2.1 (1 x 306)  idle\n",
      "        generated with dossp-2.1 (1 x 306)  idle\n",
      "        generated with dossp-2.1 (1 x 306)  idle\n",
      "        generated with dossp-2.1 (1 x 306)  idle\n",
      "        generated with dossp-2.1 (1 x 306)  idle\n",
      "        generated with dossp-2.1 (1 x 306)  idle\n",
      "        generated with dossp-2.1 (1 x 306)  idle\n",
      "        generated with dossp-2.1 (1 x 306)  idle\n",
      "    Range : 29000 ... 1580999 =     29.000 ...  1580.999 secs\n",
      "Ready.\n",
      "Opening raw data file /mnt/sphere/nbl/processed_meg/nbl_005/ses-01/nbl_005_bigfrank_1_raw-1.fif...\n",
      "    Read a total of 13 projection items:\n",
      "        generated with dossp-2.1 (1 x 306)  idle\n",
      "        generated with dossp-2.1 (1 x 306)  idle\n",
      "        generated with dossp-2.1 (1 x 306)  idle\n",
      "        generated with dossp-2.1 (1 x 306)  idle\n",
      "        generated with dossp-2.1 (1 x 306)  idle\n",
      "        generated with dossp-2.1 (1 x 306)  idle\n",
      "        generated with dossp-2.1 (1 x 306)  idle\n",
      "        generated with dossp-2.1 (1 x 306)  idle\n",
      "        generated with dossp-2.1 (1 x 306)  idle\n",
      "        generated with dossp-2.1 (1 x 306)  idle\n",
      "        generated with dossp-2.1 (1 x 306)  idle\n",
      "        generated with dossp-2.1 (1 x 306)  idle\n",
      "        generated with dossp-2.1 (1 x 306)  idle\n",
      "    Range : 1581000 ... 1759999 =   1581.000 ...  1759.999 secs\n",
      "Ready.\n",
      "Reading 0 ... 1730999  =      0.000 ...  1730.999 secs...\n",
      "76.3152437210083\n",
      "Filtering data...\n",
      "Filtering raw data in 1 contiguous segment\n",
      "Setting up band-pass filter from 1 - 2e+02 Hz\n",
      "\n",
      "FIR filter parameters\n",
      "---------------------\n",
      "Designing a one-pass, zero-phase, non-causal bandpass filter:\n",
      "- Windowed time-domain design (firwin) method\n",
      "- Hamming window with 0.0194 passband ripple and 53 dB stopband attenuation\n",
      "- Lower passband edge: 1.00\n",
      "- Lower transition bandwidth: 1.00 Hz (-6 dB cutoff frequency: 0.50 Hz)\n",
      "- Upper passband edge: 200.00 Hz\n",
      "- Upper transition bandwidth: 50.00 Hz (-6 dB cutoff frequency: 225.00 Hz)\n",
      "- Filter length: 3301 samples (3.301 s)\n",
      "\n"
     ]
    },
    {
     "name": "stderr",
     "output_type": "stream",
     "text": [
      "[Parallel(n_jobs=-1)]: Using backend LokyBackend with 48 concurrent workers.\n",
      "[Parallel(n_jobs=-1)]: Done  24 tasks      | elapsed:    6.2s\n",
      "[Parallel(n_jobs=-1)]: Done 114 tasks      | elapsed:   12.3s\n",
      "[Parallel(n_jobs=-1)]: Done 240 tasks      | elapsed:   20.7s\n",
      "[Parallel(n_jobs=-1)]: Done 306 out of 306 | elapsed:   23.5s finished\n"
     ]
    }
   ],
   "source": [
    "print (f\"Reading raw file for {subject}...\")\n",
    "t = time.time()\n",
    "raw = read_raw_fif(raw_fname, preload=True, verbose=True)\n",
    "elapsed_readraw = time.time() - t\n",
    "print(f\"Loaded in {elapsed_readraw:.1f} seconds.\\n\")\n",
    "print (\"Filtering data...\")\n",
    "raw = raw.filter(filt_l, filt_h, n_jobs=-1)"
   ]
  },
  {
   "cell_type": "code",
   "execution_count": 11,
   "id": "e91890e2-6fae-4de8-8820-cfa323f63bcb",
   "metadata": {},
   "outputs": [
    {
     "data": {
      "text/plain": [
       "<mne_qt_browser._pg_figure.MNEQtBrowser at 0x74879d9bb770>"
      ]
     },
     "execution_count": 11,
     "metadata": {},
     "output_type": "execute_result"
    },
    {
     "name": "stderr",
     "output_type": "stream",
     "text": [
      "/mnt/cube/blang/envs/mne/lib/python3.12/site-packages/pyqtgraph/GraphicsScene/GraphicsScene.py:378: RuntimeWarning: Projection vector 'generated with dossp-2.1' has been reduced to 66.18% of its original magnitude by subselecting 304/204 of the original channels. If the ignored channels were bad during SSP computation, we recommend recomputing proj (via compute_proj_raw or related functions) with the bad channels properly marked, because computing SSP with bad channels present in the data but unmarked is dangerous (it can bias the PCA used by SSP). On the other hand, if you know that all channels were good during SSP computation, you can safely use info.normalize_proj() to suppress this warning during projection.\n",
      "  item.mouseClickEvent(ev)\n",
      "/mnt/cube/blang/envs/mne/lib/python3.12/site-packages/pyqtgraph/GraphicsScene/GraphicsScene.py:378: RuntimeWarning: Projection vector 'generated with dossp-2.1' has been reduced to 66.18% of its original magnitude by subselecting 304/204 of the original channels. If the ignored channels were bad during SSP computation, we recommend recomputing proj (via compute_proj_raw or related functions) with the bad channels properly marked, because computing SSP with bad channels present in the data but unmarked is dangerous (it can bias the PCA used by SSP). On the other hand, if you know that all channels were good during SSP computation, you can safely use info.normalize_proj() to suppress this warning during projection.\n",
      "  item.mouseClickEvent(ev)\n",
      "/mnt/cube/blang/envs/mne/lib/python3.12/site-packages/pyqtgraph/GraphicsScene/GraphicsScene.py:378: RuntimeWarning: Projection vector 'generated with dossp-2.1' has been reduced to 66.15% of its original magnitude by subselecting 303/204 of the original channels. If the ignored channels were bad during SSP computation, we recommend recomputing proj (via compute_proj_raw or related functions) with the bad channels properly marked, because computing SSP with bad channels present in the data but unmarked is dangerous (it can bias the PCA used by SSP). On the other hand, if you know that all channels were good during SSP computation, you can safely use info.normalize_proj() to suppress this warning during projection.\n",
      "  item.mouseClickEvent(ev)\n",
      "/mnt/cube/blang/envs/mne/lib/python3.12/site-packages/pyqtgraph/GraphicsScene/GraphicsScene.py:378: RuntimeWarning: Projection vector 'generated with dossp-2.1' has been reduced to 66.15% of its original magnitude by subselecting 303/204 of the original channels. If the ignored channels were bad during SSP computation, we recommend recomputing proj (via compute_proj_raw or related functions) with the bad channels properly marked, because computing SSP with bad channels present in the data but unmarked is dangerous (it can bias the PCA used by SSP). On the other hand, if you know that all channels were good during SSP computation, you can safely use info.normalize_proj() to suppress this warning during projection.\n",
      "  item.mouseClickEvent(ev)\n"
     ]
    },
    {
     "name": "stdout",
     "output_type": "stream",
     "text": [
      "Channels marked as bad:\n",
      "['MEG1132', 'MEG1543', 'MEG1843']\n"
     ]
    }
   ],
   "source": [
    "# pick bad channels and annotate\n",
    "# %matplotlib inline\n",
    "raw.plot()"
   ]
  },
  {
   "cell_type": "code",
   "execution_count": 12,
   "id": "704e0d67-e1b1-47aa-b2b8-edf1324de6c9",
   "metadata": {},
   "outputs": [],
   "source": [
    "# save a list of the bad channels\n",
    "with open(bads_list_fname, 'w') as f:\n",
    "    for line in raw.info['bads']:\n",
    "        f.write(f\"{line}\\n\")"
   ]
  },
  {
   "cell_type": "code",
   "execution_count": null,
   "id": "03eda888-4b36-4b5e-9d39-6fa88debb587",
   "metadata": {},
   "outputs": [],
   "source": []
  }
 ],
 "metadata": {
  "kernelspec": {
   "display_name": "mne",
   "language": "python",
   "name": "mne"
  },
  "language_info": {
   "codemirror_mode": {
    "name": "ipython",
    "version": 3
   },
   "file_extension": ".py",
   "mimetype": "text/x-python",
   "name": "python",
   "nbconvert_exporter": "python",
   "pygments_lexer": "ipython3",
   "version": "3.10.16"
  }
 },
 "nbformat": 4,
 "nbformat_minor": 5
}
